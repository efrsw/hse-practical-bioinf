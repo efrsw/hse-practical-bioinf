{
 "cells": [
  {
   "cell_type": "markdown",
   "metadata": {},
   "source": [
    "### Задание 1"
   ]
  },
  {
   "cell_type": "code",
   "execution_count": 13,
   "metadata": {},
   "outputs": [
    {
     "name": "stdout",
     "output_type": "stream",
     "text": [
      "2812357\n"
     ]
    },
    {
     "name": "stdout",
     "output_type": "stream",
     "text": [
      "Split sequence(s) into smaller sequences\n"
     ]
    }
   ],
   "source": [
    "# 1.3\n",
    "!grep -v '>' sequence.fasta | tr -d '\\n' | wc -c\n",
    "!splitter -sequence sequence.fasta -outseq res.split -size=281236"
   ]
  },
  {
   "cell_type": "code",
   "execution_count": 14,
   "metadata": {},
   "outputs": [
    {
     "name": "stdout",
     "output_type": "stream",
     "text": [
      "Calculate the composition of unique words in sequences\n",
      "AAAA\t42791\t\t0.0152154\t0.0039062\t3.8951341\n",
      "ATAT\t20764\t\t0.0073831\t0.0039062\t1.8900835\n",
      "ATTA\t14177\t\t0.0050410\t0.0039062\t1.2904890\n",
      "AATT\t16433\t\t0.0058431\t0.0039062\t1.4958458\n"
     ]
    }
   ],
   "source": [
    "# 1.4\n",
    "!compseq -sequence sequence.fasta -word 4 -outfile res4.comp\n",
    "!cat res4.comp | grep AAAA\n",
    "!cat res4.comp | grep ATAT \n",
    "!cat res4.comp | grep ATTA\n",
    "!cat res4.comp | grep AATT "
   ]
  },
  {
   "cell_type": "code",
   "execution_count": 15,
   "metadata": {},
   "outputs": [
    {
     "name": "stdout",
     "output_type": "stream",
     "text": [
      "Shuffle a set of sequences maintaining composition\n",
      "2812357\n"
     ]
    }
   ],
   "source": [
    "# 1.5\n",
    "!shuffleseq -sequence res.split -outseq res.shuffle\n",
    "!grep -v '>' res.shuffle | tr -d '\\n' | wc -c"
   ]
  },
  {
   "cell_type": "code",
   "execution_count": 16,
   "metadata": {},
   "outputs": [
    {
     "name": "stdout",
     "output_type": "stream",
     "text": [
      "Calculate the composition of unique words in sequences\n",
      "AAAA\t17297\t\t0.0061504\t0.0039062\t1.5745082\n",
      "ATAT\t16669\t\t0.0059271\t0.0039062\t1.5173428\n",
      "ATTA\t16772\t\t0.0059637\t0.0039062\t1.5267186\n",
      "AATT\t16559\t\t0.0058880\t0.0039062\t1.5073297\n"
     ]
    }
   ],
   "source": [
    "# 1.6\n",
    "!compseq -sequence res.shuffle -word 4 -outfile res4.shuffle.comp\n",
    "!cat res4.shuffle.comp | grep AAAA \n",
    "!cat res4.shuffle.comp | grep ATAT \n",
    "!cat res4.shuffle.comp | grep ATTA \n",
    "!cat res4.shuffle.comp | grep AATT "
   ]
  },
  {
   "cell_type": "code",
   "execution_count": 17,
   "metadata": {},
   "outputs": [
    {
     "name": "stdout",
     "output_type": "stream",
     "text": [
      "Calculate the composition of unique words in sequences\n"
     ]
    }
   ],
   "source": [
    "# 1.7\n",
    "# Чтобы посчитать модель Бернулли найдем частоты однобуквенных слов.\n",
    "# Далее перемножим вероятности букв в нужной последовательности\n",
    "!compseq -sequence sequence.fasta -word 1 -outfile res1.comp"
   ]
  },
  {
   "cell_type": "markdown",
   "metadata": {},
   "source": [
    "| Word | Default | Shuffled | Bernoulli |\n",
    "| ---- | ------- | -------- | --------- |\n",
    "| AAAA | 0.015   | 0.006    | 0.006     |\n",
    "| ATAT | 0.007   | 0.005    | 0.005     |\n",
    "| ATTA | 0.005   | 0.005    | 0.005     |\n",
    "| AATT | 0.005   | 0.005    | 0.005     |"
   ]
  },
  {
   "cell_type": "markdown",
   "metadata": {},
   "source": [
    "### Задание 2"
   ]
  },
  {
   "cell_type": "markdown",
   "metadata": {},
   "source": [
    "#### 2.1\n",
    "| UniprotKB | Swiss-Prot | TrEMBL |\n",
    "| --------- | ---------- | ------ |\n",
    "| 65902     | 955        | 64947  |"
   ]
  },
  {
   "cell_type": "markdown",
   "metadata": {},
   "source": [
    "#### 2.2\n",
    "| UniprotKB | Swiss-Prot | TrEMBL |\n",
    "| --------- | ---------- | ------ |\n",
    "| 14355     | 144        | 14211  |"
   ]
  },
  {
   "cell_type": "markdown",
   "metadata": {},
   "source": [
    "#### 2.3\n",
    "| UniprotKB | Swiss-Prot | TrEMBL |\n",
    "| --------- | ---------- | ------ |\n",
    "| 164       | 29         | 135    | "
   ]
  },
  {
   "cell_type": "markdown",
   "metadata": {},
   "source": [
    "#### 2.4\n",
    "Согласно описанию на uniprot:\n",
    "\n",
    "```\n",
    "Function (MYC_HUMAN - P01106)\n",
    "\n",
    "- Transcription factor that binds DNA in a non-specific manner, yet also specifically recognizes the core sequence 5'-CAC[GA]TG-3' (PubMed:24940000, PubMed:25956029).\n",
    "- Activates the transcription of growth-related genes (PubMed:24940000, PubMed:25956029).\n",
    "- Binds to the VEGFA promoter, promoting VEGFA production and subsequent sprouting angiogenesis (PubMed:24940000, PubMed:25956029).\n",
    "- Regulator of somatic reprogramming, controls self-renewal of embryonic stem cells (By similarity).\n",
    "- Functions with TAF6L to activate target gene expression through RNA polymerase II pause release (By similarity).\n",
    "- Positively regulates transcription of HNRNPA1, HNRNPA2 and PTBP1 which in turn regulate splicing of pyruvate kinase PKM by binding repressively to sequences flanking PKM exon 9, inhibiting exon 9 inclusion and resulting in exon 10 inclusion and production of the PKM M2 isoform (PubMed:20010808)\n",
    "```\n",
    "\n",
    "То есть, в основном, функция данного белка заключается в регуляции транскрипции большого количества генов. Поиск дополнительной информации показал, что среди мишеней данного белка есть гены, которые учавствуют в апоптозе, регуляции метаболизма и диффиренцировке клеток. "
   ]
  },
  {
   "cell_type": "markdown",
   "metadata": {},
   "source": [
    "#### 2.5\n",
    "Белок Myc принадлежит к семейству факторов транскрипции Myc, которое также включает белки N-Myc и L-Myc."
   ]
  },
  {
   "cell_type": "markdown",
   "metadata": {},
   "source": [
    "#### 2.6\n",
    "| Protein name | 100% identity | 90% identity | 50% identity |\n",
    "| ------------ | ------------- | ------------ | ------------ |\n",
    "| MYC_HUMAN    | 6             | 98           | 183          | "
   ]
  },
  {
   "cell_type": "markdown",
   "metadata": {},
   "source": []
  }
 ],
 "metadata": {
  "kernelspec": {
   "display_name": "Python 3",
   "language": "python",
   "name": "python3"
  },
  "language_info": {
   "codemirror_mode": {
    "name": "ipython",
    "version": 3
   },
   "file_extension": ".py",
   "mimetype": "text/x-python",
   "name": "python",
   "nbconvert_exporter": "python",
   "pygments_lexer": "ipython3",
   "version": "3.10.12"
  },
  "orig_nbformat": 4
 },
 "nbformat": 4,
 "nbformat_minor": 2
}
